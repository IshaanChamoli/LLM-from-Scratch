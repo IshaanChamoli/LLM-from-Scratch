{
 "cells": [
  {
   "cell_type": "markdown",
   "metadata": {},
   "source": [
    "<h1> Building LLMs from Scratch </h1>"
   ]
  },
  {
   "cell_type": "markdown",
   "metadata": {},
   "source": [
    "<h2> Part 7: Tokenization </h2>\n",
    "(in sync with lectures... Lectures 1-6 were all intuition and theory)"
   ]
  },
  {
   "cell_type": "code",
   "execution_count": 3,
   "metadata": {},
   "outputs": [
    {
     "name": "stdout",
     "output_type": "stream",
     "text": [
      "Total number of characters: 20479\n",
      "I HAD always thought Jack Gisburn rather a cheap genius--though a good fellow enough--so it was no \n"
     ]
    }
   ],
   "source": [
    "# Retreived the text and stores in raw_text\n",
    "\n",
    "with open(\"the-verdict.txt\", \"r\", encoding=\"utf-8\") as f:\n",
    "    raw_text = f.read()\n",
    "\n",
    "print(\"Total number of characters:\", len(raw_text))\n",
    "print((raw_text[:99]))\n"
   ]
  },
  {
   "cell_type": "code",
   "execution_count": 30,
   "metadata": {},
   "outputs": [
    {
     "name": "stdout",
     "output_type": "stream",
     "text": [
      "['Hello,', ' ', 'world.', ' ', 'Is', ' ', 'this--', ' ', 'is', ' ', 'a', ' ', 'test?']\n"
     ]
    }
   ],
   "source": [
    "import re\n",
    "\n",
    "\n",
    "text = \"Hello, world. Is this-- is a test?\"\n",
    "result = re.split(r'(\\s)', text) # splitting wherever there is a whitespace! \\s is for spaces like \\n is for new line\n",
    "\n",
    "print(result)"
   ]
  },
  {
   "cell_type": "code",
   "execution_count": 31,
   "metadata": {},
   "outputs": [
    {
     "name": "stdout",
     "output_type": "stream",
     "text": [
      "['Hello', ',', 'world', '.', 'Is', 'this', '--', 'is', 'a', 'test', '?']\n"
     ]
    }
   ],
   "source": [
    "result = re.split(r'([,.:;?_!\"()\\']|--|\\s)', text) # splitting at more stuff\n",
    "\n",
    "result = [item for item in result if item.strip()]\n",
    "print(result) # separated words and punctuations... whitespaces removed from array (fine for this, but what about where structure is important?? like code!!! whitespace is important!)"
   ]
  },
  {
   "cell_type": "code",
   "execution_count": 34,
   "metadata": {},
   "outputs": [
    {
     "name": "stdout",
     "output_type": "stream",
     "text": [
      "['I', 'HAD', 'always', 'thought', 'Jack', 'Gisburn', 'rather', 'a', 'cheap', 'genius', '--', 'though', 'a', 'good', 'fellow', 'enough', '--', 'so', 'it', 'was', 'no', 'great', 'surprise', 'to', 'me', 'to', 'hear', 'that', ',', 'in']\n",
      "Total count: 4690\n"
     ]
    }
   ],
   "source": [
    "# for whole text!!\n",
    "\n",
    "preprocessed = re.split(r'([,.:;?_!\"()\\']|--|\\s)', raw_text)\n",
    "preprocessed = [item for item in preprocessed if item.strip()]\n",
    "print(preprocessed[:30])\n",
    "print(\"Total count:\", len(preprocessed))"
   ]
  },
  {
   "cell_type": "markdown",
   "metadata": {},
   "source": [
    "<h3> Converting to token IDs </h3>"
   ]
  },
  {
   "cell_type": "code",
   "execution_count": 44,
   "metadata": {},
   "outputs": [
    {
     "name": "stdout",
     "output_type": "stream",
     "text": [
      "['!', '\"', \"'\", '(', ')', ',', '--', '.', ':', ';', '?', 'A', 'Ah', 'Among', 'And', 'Are', 'Arrt', 'As', 'At', 'Be', 'Begin', 'Burlington', 'But', 'By', 'Carlo', 'Chicago', 'Claude', 'Come', 'Croft', 'Destroyed', 'Devonshire', 'Don', 'Dubarry', 'Emperors', 'Florence', 'For', 'Gallery', 'Gideon', 'Gisburn', 'Gisburns', 'Grafton', 'Greek', 'Grindle', 'Grindles', 'HAD', 'Had', 'Hang', 'Has', 'He', 'Her', 'Hermia', 'His', 'How', 'I', 'If', 'In', 'It', 'Jack', 'Jove', 'Just', 'Lord', 'Made', 'Miss', 'Money', 'Monte', 'Moon-dancers', 'Mr', 'Mrs', 'My', 'Never', 'No', 'Now', 'Nutley', 'Of', 'Oh', 'On', 'Once', 'Only', 'Or', 'Perhaps', 'Poor', 'Professional', 'Renaissance', 'Rickham', 'Riviera', 'Rome', 'Russian', 'Sevres', 'She', 'Stroud', 'Strouds', 'Suddenly', 'That', 'The', 'Then', 'There', 'They', 'This', 'Those']\n",
      "1130\n"
     ]
    }
   ],
   "source": [
    "all_words = sorted(set(preprocessed)) # using set removes all repeated values!!\n",
    "vocab_size = len(all_words)\n",
    "\n",
    "print(all_words[:99])\n",
    "print(vocab_size) # only unique words now!"
   ]
  },
  {
   "cell_type": "code",
   "execution_count": 61,
   "metadata": {},
   "outputs": [
    {
     "name": "stdout",
     "output_type": "stream",
     "text": [
      "('!', 0)\n",
      "('\"', 1)\n",
      "(\"'\", 2)\n",
      "('(', 3)\n",
      "(')', 4)\n",
      "(',', 5)\n",
      "('--', 6)\n",
      "('.', 7)\n",
      "(':', 8)\n",
      "(';', 9)\n",
      "('?', 10)\n",
      "('A', 11)\n",
      "('Ah', 12)\n",
      "('Among', 13)\n",
      "('And', 14)\n",
      "('Are', 15)\n",
      "('Arrt', 16)\n",
      "('As', 17)\n",
      "('At', 18)\n",
      "('Be', 19)\n",
      "('Begin', 20)\n",
      "('Burlington', 21)\n",
      "('But', 22)\n",
      "('By', 23)\n",
      "('Carlo', 24)\n",
      "('Chicago', 25)\n",
      "('Claude', 26)\n",
      "('Come', 27)\n",
      "('Croft', 28)\n",
      "('Destroyed', 29)\n",
      "('Devonshire', 30)\n",
      "('Don', 31)\n",
      "('Dubarry', 32)\n",
      "('Emperors', 33)\n",
      "('Florence', 34)\n",
      "('For', 35)\n",
      "('Gallery', 36)\n",
      "('Gideon', 37)\n",
      "('Gisburn', 38)\n",
      "('Gisburns', 39)\n",
      "('Grafton', 40)\n",
      "('Greek', 41)\n",
      "('Grindle', 42)\n",
      "('Grindles', 43)\n",
      "('HAD', 44)\n",
      "('Had', 45)\n",
      "('Hang', 46)\n",
      "('Has', 47)\n",
      "('He', 48)\n",
      "('Her', 49)\n",
      "('Hermia', 50)\n"
     ]
    }
   ],
   "source": [
    "# assigning the token values (ENCODING!)\n",
    "vocab = {token:integer for integer, token in enumerate(all_words)} # enumerate takes all items and gives index value to each... mapping as dict!\n",
    "\n",
    "for i, item in enumerate(vocab.items()):\n",
    "    print(item)\n",
    "    if i >= 50:\n",
    "        break"
   ]
  },
  {
   "cell_type": "markdown",
   "metadata": {},
   "source": [
    "<h3> Tokenizer Class </h3>"
   ]
  },
  {
   "cell_type": "code",
   "execution_count": 90,
   "metadata": {},
   "outputs": [],
   "source": [
    "class SimpleTokenizerV1:\n",
    "     def __init__(self, vocab):\n",
    "          self.str_to_int = vocab\n",
    "          self.int_to_str = {i:s for s,i in vocab.items()}\n",
    "\n",
    "     def encode(self, text): # converting strings to token IDs\n",
    "          preprocessed = re.split(r'([,.:;?_!\"()\\']|--|\\s)', text)\n",
    "          preprocessed = [item for item in preprocessed if item.strip()]\n",
    "\n",
    "          IDs = [self.str_to_int[s] for s in preprocessed]\n",
    "          return IDs\n",
    "     \n",
    "     def decode(self, IDs):\n",
    "          text = \" \".join([self.int_to_str[i] for i in IDs]) # .join puts in an array\n",
    "          text = re.sub(r'\\s+([,.?!\"()\\'])', r'\\1', text) # minor change, just removing any spaces created before punctuations\n",
    "          text = re.sub(r'([\\'\"])\\s+', r'\\1', text) # removing spaces after single and double quotes\n",
    "          return text"
   ]
  },
  {
   "cell_type": "code",
   "execution_count": null,
   "metadata": {},
   "outputs": [
    {
     "name": "stdout",
     "output_type": "stream",
     "text": [
      "[1, 56, 2, 850, 988, 602, 533, 746, 5, 1126, 596, 5, 1, 67, 7, 38, 851, 1108, 754, 793, 7]\n",
      "\"It's the last he painted, you know,\"Mrs. Gisburn said with pardonable pride.\n"
     ]
    }
   ],
   "source": [
    "tokenizer = SimpleTokenizerV1(vocab) # vocab done earlier... dictionary of each words with a token\n",
    "text = \"\"\"\"It's the last he painted, you know,\"\n",
    "Mrs. Gisburn said with pardonable pride.\n",
    "\"\"\"\n",
    "\n",
    "ids = tokenizer.encode(text)\n",
    "print(ids)\n",
    "\n",
    "# wont_work = tokenizer.encode(\"wassup\") ----- this wont work because its not in our vocab\n",
    "# print(wont_work)\n",
    "\n",
    "text_again = tokenizer.decode(ids)\n",
    "print(text_again)"
   ]
  },
  {
   "cell_type": "markdown",
   "metadata": {},
   "source": [
    "<h3>Special Context Tokens</h3>\n",
    "Handling unknown words...\n",
    "\n",
    "<|unk|> for unknown words <br>\n",
    "<|endoftext|> a token between unrelated texts (when using multiple data sources)\n"
   ]
  },
  {
   "cell_type": "code",
   "execution_count": 111,
   "metadata": {},
   "outputs": [
    {
     "name": "stdout",
     "output_type": "stream",
     "text": [
      "['younger', 'your', 'yourself', '<|endoftext|>', '<|unk|>']\n",
      "New vocabulary size: 1132\n"
     ]
    }
   ],
   "source": [
    "all_tokens = sorted(list(set(preprocessed)))\n",
    "all_tokens += [\"<|endoftext|>\", \"<|unk|>\"]\n",
    "print(all_tokens[-5:])\n",
    "\n",
    "vocab = {token:integer for integer, token in enumerate(all_tokens)}\n",
    "\n",
    "print(\"New vocabulary size:\", len(vocab)) # increased by 2!"
   ]
  },
  {
   "cell_type": "code",
   "execution_count": 112,
   "metadata": {},
   "outputs": [],
   "source": [
    "class SimpleTokenizerV2:\n",
    "     def __init__(self, vocab):\n",
    "          self.str_to_int = vocab\n",
    "          self.int_to_str = {i:s for s,i in vocab.items()}\n",
    "\n",
    "     def encode(self, text): # converting strings to token IDs\n",
    "          preprocessed = re.split(r'([,.:;?_!\"()\\']|--|\\s)', text)\n",
    "          preprocessed = [item for item in preprocessed if item.strip()]\n",
    "          preprocessed = [\n",
    "               item if item in self.str_to_int\n",
    "               else \"<|unk|>\" for item in preprocessed\n",
    "          ]\n",
    "\n",
    "          IDs = [self.str_to_int[s] for s in preprocessed]\n",
    "          return IDs\n",
    "     \n",
    "     def decode(self, IDs):\n",
    "          text = \" \".join([self.int_to_str[i] for i in IDs]) # .join puts in an array\n",
    "          text = re.sub(r'\\s+([,.?!\"()\\'])', r'\\1', text) # minor change, just removing any spaces created before punctuations\n",
    "          text = re.sub(r'([\\'\"])\\s+', r'\\1', text) # removing spaces after single and double quotes\n",
    "          return text\n",
    "    "
   ]
  },
  {
   "cell_type": "code",
   "execution_count": 156,
   "metadata": {},
   "outputs": [
    {
     "name": "stdout",
     "output_type": "stream",
     "text": [
      "She had pardonable pride... <|endoftext|> Gisburn gave marshmellow tea! \n",
      "\n",
      "IDs: [88, 514, 754, 793, 7, 7, 7, 1130, 38, 484, 1131, 975, 0] \n",
      "\n",
      "She had pardonable pride... <|endoftext|> Gisburn gave <|unk|> tea!\n"
     ]
    }
   ],
   "source": [
    "tokenizer = SimpleTokenizerV2(vocab) # using v2 that handles special cases!\n",
    "\n",
    "## testing weird stuff!!\n",
    "weird_text = \"She had pardonable pride... <|endoftext|> Gisburn gave marshmellow tea!\"\n",
    "print(weird_text, \"\\n\")\n",
    "\n",
    "will_work = tokenizer.encode(weird_text) ## now it works!! gets assigned unknown id\n",
    "print(\"IDs:\", will_work, \"\\n\") ## testing both unknown word and <|endoftext|>!!\n",
    "\n",
    "weird_text_again = tokenizer.decode(will_work)\n",
    "print(weird_text_again)"
   ]
  },
  {
   "cell_type": "markdown",
   "metadata": {},
   "source": [
    "<h4>Note:</h4>Other special tokens also exist... (but even OpenAI gpt's dont used these)\n",
    "1) beginning of sequence (BOS) - start of new text source\n",
    "2) padding (PAD) => shorter text sources are padded so all sources have same size (as much as the largest)... Helps with parallel processing"
   ]
  },
  {
   "cell_type": "markdown",
   "metadata": {},
   "source": [
    "<hr>\n",
    "<h2>Part 8</h2>"
   ]
  }
 ],
 "metadata": {
  "kernelspec": {
   "display_name": "base",
   "language": "python",
   "name": "python3"
  },
  "language_info": {
   "codemirror_mode": {
    "name": "ipython",
    "version": 3
   },
   "file_extension": ".py",
   "mimetype": "text/x-python",
   "name": "python",
   "nbconvert_exporter": "python",
   "pygments_lexer": "ipython3",
   "version": "3.12.7"
  }
 },
 "nbformat": 4,
 "nbformat_minor": 2
}
